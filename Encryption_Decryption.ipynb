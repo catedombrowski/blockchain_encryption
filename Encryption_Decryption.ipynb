{
 "cells": [
  {
   "cell_type": "markdown",
   "metadata": {},
   "source": [
    "Part 1: Public and Private Keys"
   ]
  },
  {
   "cell_type": "code",
   "execution_count": 1,
   "metadata": {},
   "outputs": [],
   "source": [
    "from sympy import mod_inverse\n",
    "import hashlib"
   ]
  },
  {
   "cell_type": "code",
   "execution_count": 2,
   "metadata": {},
   "outputs": [
    {
     "name": "stdout",
     "output_type": "stream",
     "text": [
      "The first public key is:  10031635092209121498674987861649022163771061565130441373555584537047455688991931937563110507506652959265182705476941444174840580049331773111276155053075917\n",
      "The second public key is:  65537\n",
      "The private key d is:  6886694454027199678759881881737814611139109676622117091683160716943132564863007715345245794849719693156483947830169207322284232384798025277322134502462181\n"
     ]
    }
   ],
   "source": [
    "p=112481050639317229656723018120659623829736571015511322021617837187076258724819\n",
    "q=89185111938335771293328323333111422985697062149139368049232365065924632677343\n",
    "\n",
    "n = p * q\n",
    "print(\"The first public key is: \", n)\n",
    "\n",
    "\n",
    "e=65537\n",
    "print(\"The second public key is: \", e)\n",
    "\n",
    "phi_n = (p - 1) * (q - 1)\n",
    "\n",
    "d = mod_inverse(e, phi_n)\n",
    "\n",
    "print(\"The private key d is: \", d)"
   ]
  },
  {
   "cell_type": "markdown",
   "metadata": {},
   "source": [
    "Part 2: Encrypt a Message"
   ]
  },
  {
   "cell_type": "code",
   "execution_count": 3,
   "metadata": {},
   "outputs": [
    {
     "name": "stdout",
     "output_type": "stream",
     "text": [
      "Encoded integer: 132506048299782729601861890795689101374996562756163152523388206\n",
      "Encrypted message: 5628730804056595371855684110576266781276706571005479901402626056646581913671537162886477174980769106939051646161443333500500835847610834908579566064478525\n"
     ]
    }
   ],
   "source": [
    "str = \"Running late. Wait for me.\"\n",
    "encoded_bytes = str.encode('utf-8')  # string to bytes\n",
    "m = int.from_bytes(encoded_bytes, byteorder='big') # bytes to integer\n",
    "\n",
    "print(\"Encoded integer:\", m)\n",
    "\n",
    "ciphertext = pow(m, e, n) #encrypt\n",
    "\n",
    "print(\"Encrypted message:\", ciphertext)\n"
   ]
  },
  {
   "cell_type": "markdown",
   "metadata": {},
   "source": [
    "Part 3: Decrypt a Message"
   ]
  },
  {
   "cell_type": "code",
   "execution_count": 4,
   "metadata": {},
   "outputs": [
    {
     "name": "stdout",
     "output_type": "stream",
     "text": [
      "Congrats! You just decrypted your first message!\n"
     ]
    }
   ],
   "source": [
    "c = 9029727923340384868426518880554167882611943065703927838617521515742066859974885947494642963883568408240430125599636824996577080116022919050269017033777667\n",
    "\n",
    "m = pow(c, d, n) # decrypt\n",
    "\n",
    "num_bytes = (m.bit_length() + 7) // 8 # \"too big error\" this is for determining the size of the RSA message in bytes\n",
    "decoded_bytes = m.to_bytes(num_bytes, byteorder='big') #integer to bytes\n",
    "decoded_message = decoded_bytes.decode('utf-8') #bytes to string\n",
    "\n",
    "print(decoded_message)"
   ]
  },
  {
   "cell_type": "markdown",
   "metadata": {},
   "source": [
    "Part 4: Sign a Message"
   ]
  },
  {
   "cell_type": "code",
   "execution_count": 5,
   "metadata": {},
   "outputs": [
    {
     "name": "stdout",
     "output_type": "stream",
     "text": [
      "Hex Digest:  c98b86cf748ca732199bbafb5bca1ac2db34416b198bf3906c6cf3bb19e2c015\n",
      "Hash integer:  5196757236952167220763533464276920932199772536270749930947313681585064170024490586392502408018385385327118416752669008082891762309836988228207000058605877\n",
      "Signature:  3141272798217254437841732019283821297853765608850884890749159341487650279071377864998607585732045317788354363036712706102305523253064683707241033589893839\n"
     ]
    }
   ],
   "source": [
    "m = hashlib.sha256(b\"Congrats! You just decrypted your first message!\").hexdigest()\n",
    "print(\"Hex Digest: \", m)\n",
    "\n",
    "m_bytes = m.encode('utf-8')  # string to bytes\n",
    "m_hash = int.from_bytes(m_bytes, byteorder='big') # bytes to integer\n",
    "print(\"Hash integer: \", m_hash)\n",
    "\n",
    "s= pow(m_hash, d, n)\n",
    "print(\"Signature: \", s)"
   ]
  },
  {
   "cell_type": "markdown",
   "metadata": {},
   "source": [
    "Part 5: Verify a Message"
   ]
  },
  {
   "cell_type": "code",
   "execution_count": 7,
   "metadata": {},
   "outputs": [
    {
     "name": "stdout",
     "output_type": "stream",
     "text": [
      "The signature is valid.\n"
     ]
    }
   ],
   "source": [
    "verification = pow(s, e, n) # decrypt the signature\n",
    "\n",
    "if verification == m_hash:\n",
    "    print(\"The signature is valid.\")\n",
    "else:\n",
    "    print(\"The signature is not valid.\")"
   ]
  }
 ],
 "metadata": {
  "kernelspec": {
   "display_name": "base",
   "language": "python",
   "name": "python3"
  },
  "language_info": {
   "codemirror_mode": {
    "name": "ipython",
    "version": 3
   },
   "file_extension": ".py",
   "mimetype": "text/x-python",
   "name": "python",
   "nbconvert_exporter": "python",
   "pygments_lexer": "ipython3",
   "version": "3.11.5"
  }
 },
 "nbformat": 4,
 "nbformat_minor": 2
}
